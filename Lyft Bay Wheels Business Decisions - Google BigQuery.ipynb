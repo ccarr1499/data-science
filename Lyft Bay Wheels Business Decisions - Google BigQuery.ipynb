{
 "cells": [
  {
   "cell_type": "code",
   "execution_count": 102,
   "metadata": {},
   "outputs": [],
   "source": [
    "import pandas as pd\n",
    "%reload_ext google.cloud.bigquery\n",
    "import matplotlib.pyplot as plt\n",
    "%matplotlib inline\n",
    "import seaborn as sns"
   ]
  },
  {
   "cell_type": "markdown",
   "metadata": {},
   "source": [
    "## Question 1: What are the 5 most popular trips that you would call \"commuter trips\"?"
   ]
  },
  {
   "cell_type": "code",
   "execution_count": 87,
   "metadata": {},
   "outputs": [
    {
     "name": "stderr",
     "output_type": "stream",
     "text": [
      "/opt/conda/lib/python3.7/site-packages/google/cloud/bigquery/client.py:407: UserWarning: Cannot create BigQuery Storage client, the dependency google-cloud-bigquery-storage is not installed.\n",
      "  \"Cannot create BigQuery Storage client, the dependency \"\n"
     ]
    }
   ],
   "source": [
    "%%bigquery --use_rest_api top_5_trips\n",
    "SELECT\n",
    "start_station_name,\n",
    "end_station_name,\n",
    "COUNT(*) AS number_of_trips\n",
    "FROM\n",
    "`bike_trip_data.commuter_trip_stations`\n",
    "WHERE\n",
    "start_station_name <> end_station_name\n",
    "GROUP BY\n",
    "start_station_name,\n",
    "end_station_name\n",
    "ORDER BY\n",
    "number_of_trips DESC\n",
    "LIMIT\n",
    "5"
   ]
  },
  {
   "cell_type": "code",
   "execution_count": 88,
   "metadata": {},
   "outputs": [
    {
     "data": {
      "text/html": [
       "<div>\n",
       "<style scoped>\n",
       "    .dataframe tbody tr th:only-of-type {\n",
       "        vertical-align: middle;\n",
       "    }\n",
       "\n",
       "    .dataframe tbody tr th {\n",
       "        vertical-align: top;\n",
       "    }\n",
       "\n",
       "    .dataframe thead th {\n",
       "        text-align: right;\n",
       "    }\n",
       "</style>\n",
       "<table border=\"1\" class=\"dataframe\">\n",
       "  <thead>\n",
       "    <tr style=\"text-align: right;\">\n",
       "      <th></th>\n",
       "      <th>start_station_name</th>\n",
       "      <th>end_station_name</th>\n",
       "      <th>number_of_trips</th>\n",
       "    </tr>\n",
       "  </thead>\n",
       "  <tbody>\n",
       "    <tr>\n",
       "      <th>0</th>\n",
       "      <td>Harry Bridges Plaza (Ferry Building)</td>\n",
       "      <td>2nd at Townsend</td>\n",
       "      <td>4582</td>\n",
       "    </tr>\n",
       "    <tr>\n",
       "      <th>1</th>\n",
       "      <td>San Francisco Caltrain (Townsend at 4th)</td>\n",
       "      <td>Harry Bridges Plaza (Ferry Building)</td>\n",
       "      <td>4202</td>\n",
       "    </tr>\n",
       "    <tr>\n",
       "      <th>2</th>\n",
       "      <td>San Francisco Caltrain 2 (330 Townsend)</td>\n",
       "      <td>Townsend at 7th</td>\n",
       "      <td>3918</td>\n",
       "    </tr>\n",
       "    <tr>\n",
       "      <th>3</th>\n",
       "      <td>Townsend at 7th</td>\n",
       "      <td>San Francisco Caltrain 2 (330 Townsend)</td>\n",
       "      <td>3773</td>\n",
       "    </tr>\n",
       "    <tr>\n",
       "      <th>4</th>\n",
       "      <td>Embarcadero at Sansome</td>\n",
       "      <td>Steuart at Market</td>\n",
       "      <td>3762</td>\n",
       "    </tr>\n",
       "  </tbody>\n",
       "</table>\n",
       "</div>"
      ],
      "text/plain": [
       "                         start_station_name  \\\n",
       "0      Harry Bridges Plaza (Ferry Building)   \n",
       "1  San Francisco Caltrain (Townsend at 4th)   \n",
       "2   San Francisco Caltrain 2 (330 Townsend)   \n",
       "3                           Townsend at 7th   \n",
       "4                    Embarcadero at Sansome   \n",
       "\n",
       "                          end_station_name  number_of_trips  \n",
       "0                          2nd at Townsend             4582  \n",
       "1     Harry Bridges Plaza (Ferry Building)             4202  \n",
       "2                          Townsend at 7th             3918  \n",
       "3  San Francisco Caltrain 2 (330 Townsend)             3773  \n",
       "4                        Steuart at Market             3762  "
      ]
     },
     "execution_count": 88,
     "metadata": {},
     "output_type": "execute_result"
    }
   ],
   "source": [
    "top_5_trips"
   ]
  },
  {
   "cell_type": "markdown",
   "metadata": {},
   "source": [
    "### The top 5 commuter trips are:\n",
    "1. From Harry Bridges Plaza (Ferry Building) to 2nd at Townsend (4582 trips)\n",
    "2. From San Francisco Caltrain (Townsend at 4th) to Harry Bridges Plaza (Ferry Building) (4202 trips)\n",
    "3. From San Francisco Caltrain 2 (330 Townsend) to Townsend at 7th (3918 trips)\n",
    "4. From Townsend at 7th to San Francisco Caltrain 2 (330 Townsend) (3773 trips)\n",
    "5. From Embarcadero at Sansome to Steuart at Market (3762 trips)"
   ]
  },
  {
   "cell_type": "markdown",
   "metadata": {},
   "source": [
    "## Question 2: What are your recommendations for offers (justify based on your findings)?"
   ]
  },
  {
   "cell_type": "markdown",
   "metadata": {},
   "source": [
    "### Recommendation 1: Offer a discount to current members if they try to take a trip, but the station has no more bikes left."
   ]
  },
  {
   "cell_type": "code",
   "execution_count": 89,
   "metadata": {},
   "outputs": [
    {
     "name": "stderr",
     "output_type": "stream",
     "text": [
      "/opt/conda/lib/python3.7/site-packages/google/cloud/bigquery/client.py:407: UserWarning: Cannot create BigQuery Storage client, the dependency google-cloud-bigquery-storage is not installed.\n",
      "  \"Cannot create BigQuery Storage client, the dependency \"\n"
     ]
    }
   ],
   "source": [
    "%%bigquery --use_rest_api commuter_stations_with_empty_bikes_and_counts\n",
    "SELECT\n",
    "`sept-20.bike_trip_data.commuter_stations_with_empty_bikes`.start_station_name,\n",
    "`sept-20.bike_trip_data.commuter_stations_with_empty_bikes`.end_station_name,\n",
    "`sept-20.bike_trip_data.commuter_stations_with_empty_bikes`.start_station_id,\n",
    "`sept-20.bike_trip_data.commuter_stations_with_empty_bikes`.number_of_trips,\n",
    "`sept-20.bike_trip_data.empty_stations_counts`.counts\n",
    "FROM\n",
    "`sept-20.bike_trip_data.commuter_stations_with_empty_bikes`\n",
    "INNER JOIN\n",
    "`sept-20.bike_trip_data.empty_stations_counts`\n",
    "ON\n",
    "`sept-20.bike_trip_data.empty_stations_counts`.station_id=`sept-20.bike_trip_data.commuter_stations_with_empty_bikes`.start_station_id\n",
    "ORDER BY number_of_trips DESC"
   ]
  },
  {
   "cell_type": "code",
   "execution_count": 90,
   "metadata": {},
   "outputs": [
    {
     "name": "stdout",
     "output_type": "stream",
     "text": [
      "Number of trips to or from stations that have had empty bikes: 757\n"
     ]
    },
    {
     "data": {
      "text/html": [
       "<div>\n",
       "<style scoped>\n",
       "    .dataframe tbody tr th:only-of-type {\n",
       "        vertical-align: middle;\n",
       "    }\n",
       "\n",
       "    .dataframe tbody tr th {\n",
       "        vertical-align: top;\n",
       "    }\n",
       "\n",
       "    .dataframe thead th {\n",
       "        text-align: right;\n",
       "    }\n",
       "</style>\n",
       "<table border=\"1\" class=\"dataframe\">\n",
       "  <thead>\n",
       "    <tr style=\"text-align: right;\">\n",
       "      <th></th>\n",
       "      <th>start_station_name</th>\n",
       "      <th>end_station_name</th>\n",
       "      <th>start_station_id</th>\n",
       "      <th>number_of_trips</th>\n",
       "      <th>counts</th>\n",
       "    </tr>\n",
       "  </thead>\n",
       "  <tbody>\n",
       "    <tr>\n",
       "      <th>0</th>\n",
       "      <td>Harry Bridges Plaza (Ferry Building)</td>\n",
       "      <td>2nd at Townsend</td>\n",
       "      <td>50</td>\n",
       "      <td>4582</td>\n",
       "      <td>16458</td>\n",
       "    </tr>\n",
       "    <tr>\n",
       "      <th>1</th>\n",
       "      <td>San Francisco Caltrain (Townsend at 4th)</td>\n",
       "      <td>Harry Bridges Plaza (Ferry Building)</td>\n",
       "      <td>70</td>\n",
       "      <td>4202</td>\n",
       "      <td>32027</td>\n",
       "    </tr>\n",
       "    <tr>\n",
       "      <th>2</th>\n",
       "      <td>San Francisco Caltrain 2 (330 Townsend)</td>\n",
       "      <td>Townsend at 7th</td>\n",
       "      <td>69</td>\n",
       "      <td>3918</td>\n",
       "      <td>20600</td>\n",
       "    </tr>\n",
       "    <tr>\n",
       "      <th>3</th>\n",
       "      <td>Townsend at 7th</td>\n",
       "      <td>San Francisco Caltrain 2 (330 Townsend)</td>\n",
       "      <td>65</td>\n",
       "      <td>3773</td>\n",
       "      <td>20385</td>\n",
       "    </tr>\n",
       "    <tr>\n",
       "      <th>4</th>\n",
       "      <td>Embarcadero at Sansome</td>\n",
       "      <td>Steuart at Market</td>\n",
       "      <td>60</td>\n",
       "      <td>3762</td>\n",
       "      <td>32980</td>\n",
       "    </tr>\n",
       "  </tbody>\n",
       "</table>\n",
       "</div>"
      ],
      "text/plain": [
       "                         start_station_name  \\\n",
       "0      Harry Bridges Plaza (Ferry Building)   \n",
       "1  San Francisco Caltrain (Townsend at 4th)   \n",
       "2   San Francisco Caltrain 2 (330 Townsend)   \n",
       "3                           Townsend at 7th   \n",
       "4                    Embarcadero at Sansome   \n",
       "\n",
       "                          end_station_name  start_station_id  number_of_trips  \\\n",
       "0                          2nd at Townsend                50             4582   \n",
       "1     Harry Bridges Plaza (Ferry Building)                70             4202   \n",
       "2                          Townsend at 7th                69             3918   \n",
       "3  San Francisco Caltrain 2 (330 Townsend)                65             3773   \n",
       "4                        Steuart at Market                60             3762   \n",
       "\n",
       "   counts  \n",
       "0   16458  \n",
       "1   32027  \n",
       "2   20600  \n",
       "3   20385  \n",
       "4   32980  "
      ]
     },
     "execution_count": 90,
     "metadata": {},
     "output_type": "execute_result"
    }
   ],
   "source": [
    "print(\"Number of trips to or from stations that have had empty bikes: \" + str(len(commuter_stations_with_empty_bikes_and_counts)))\n",
    "commuter_stations_with_empty_bikes_and_counts.head()"
   ]
  },
  {
   "cell_type": "markdown",
   "metadata": {},
   "source": [
    "As we can see by the above table, many popular commuter trips included starting stations that ran out of bikes. For example, the most popular commuter trip (from Harry Bridges Plaza (Ferry Building) to 2nd at Townsend), which had 4,582 total trips, had zero bikes at the start station 16,458 times.\n",
    "\n",
    "It's likely that customers have tried to take a trip from one of these popular stations, but found there to be no bikes left. In this case, we can add an option to the app that verifies a persons' location, verifies that the station is out of bikes, and offer them a discount redeemable that day to take a trip from the next nearest bike station. This can help increase customer satisfaction, and increase the number of trips people take, which will increase revenue."
   ]
  },
  {
   "cell_type": "markdown",
   "metadata": {},
   "source": [
    "### Recommendation 2: Modify the annual and monthly memership offers so that the trips are free up to 60 minutes rather than 45 minutes."
   ]
  },
  {
   "cell_type": "code",
   "execution_count": 91,
   "metadata": {},
   "outputs": [
    {
     "name": "stderr",
     "output_type": "stream",
     "text": [
      "/opt/conda/lib/python3.7/site-packages/google/cloud/bigquery/client.py:407: UserWarning: Cannot create BigQuery Storage client, the dependency google-cloud-bigquery-storage is not installed.\n",
      "  \"Cannot create BigQuery Storage client, the dependency \"\n"
     ]
    }
   ],
   "source": [
    "%%bigquery --use_rest_api average_duration_by_membership\n",
    "SELECT\n",
    "AVG(duration_sec)/60 AS average_duration,\n",
    "subscriber_type\n",
    "FROM\n",
    "`bigquery-public-data.san_francisco.bikeshare_trips`\n",
    "WHERE\n",
    "duration_sec < 86400\n",
    "AND duration_sec > 60\n",
    "GROUP BY\n",
    "subscriber_type"
   ]
  },
  {
   "cell_type": "code",
   "execution_count": 92,
   "metadata": {},
   "outputs": [
    {
     "data": {
      "text/html": [
       "<div>\n",
       "<style scoped>\n",
       "    .dataframe tbody tr th:only-of-type {\n",
       "        vertical-align: middle;\n",
       "    }\n",
       "\n",
       "    .dataframe tbody tr th {\n",
       "        vertical-align: top;\n",
       "    }\n",
       "\n",
       "    .dataframe thead th {\n",
       "        text-align: right;\n",
       "    }\n",
       "</style>\n",
       "<table border=\"1\" class=\"dataframe\">\n",
       "  <thead>\n",
       "    <tr style=\"text-align: right;\">\n",
       "      <th></th>\n",
       "      <th>average_duration</th>\n",
       "      <th>subscriber_type</th>\n",
       "    </tr>\n",
       "  </thead>\n",
       "  <tbody>\n",
       "    <tr>\n",
       "      <th>0</th>\n",
       "      <td>53.485762</td>\n",
       "      <td>Customer</td>\n",
       "    </tr>\n",
       "    <tr>\n",
       "      <th>1</th>\n",
       "      <td>9.505918</td>\n",
       "      <td>Subscriber</td>\n",
       "    </tr>\n",
       "  </tbody>\n",
       "</table>\n",
       "</div>"
      ],
      "text/plain": [
       "   average_duration subscriber_type\n",
       "0         53.485762        Customer\n",
       "1          9.505918      Subscriber"
      ]
     },
     "execution_count": 92,
     "metadata": {},
     "output_type": "execute_result"
    }
   ],
   "source": [
    "average_duration_by_membership"
   ]
  },
  {
   "cell_type": "code",
   "execution_count": 93,
   "metadata": {},
   "outputs": [
    {
     "name": "stderr",
     "output_type": "stream",
     "text": [
      "/opt/conda/lib/python3.7/site-packages/google/cloud/bigquery/client.py:407: UserWarning: Cannot create BigQuery Storage client, the dependency google-cloud-bigquery-storage is not installed.\n",
      "  \"Cannot create BigQuery Storage client, the dependency \"\n"
     ]
    }
   ],
   "source": [
    "%%bigquery --use_rest_api durations_by_membership\n",
    "SELECT\n",
    "duration_sec/60 AS duration_min,\n",
    "subscriber_type\n",
    "FROM\n",
    "`bigquery-public-data.san_francisco.bikeshare_trips`\n",
    "WHERE\n",
    "duration_sec < 86400\n",
    "AND duration_sec > 60\n",
    "GROUP BY\n",
    "subscriber_type,\n",
    "duration_sec"
   ]
  },
  {
   "cell_type": "code",
   "execution_count": 94,
   "metadata": {},
   "outputs": [
    {
     "data": {
      "text/html": [
       "<div>\n",
       "<style scoped>\n",
       "    .dataframe tbody tr th:only-of-type {\n",
       "        vertical-align: middle;\n",
       "    }\n",
       "\n",
       "    .dataframe tbody tr th {\n",
       "        vertical-align: top;\n",
       "    }\n",
       "\n",
       "    .dataframe thead th {\n",
       "        text-align: right;\n",
       "    }\n",
       "</style>\n",
       "<table border=\"1\" class=\"dataframe\">\n",
       "  <thead>\n",
       "    <tr style=\"text-align: right;\">\n",
       "      <th></th>\n",
       "      <th>duration_min</th>\n",
       "      <th>subscriber_type</th>\n",
       "    </tr>\n",
       "  </thead>\n",
       "  <tbody>\n",
       "    <tr>\n",
       "      <th>0</th>\n",
       "      <td>43.633333</td>\n",
       "      <td>Customer</td>\n",
       "    </tr>\n",
       "    <tr>\n",
       "      <th>1</th>\n",
       "      <td>99.283333</td>\n",
       "      <td>Customer</td>\n",
       "    </tr>\n",
       "    <tr>\n",
       "      <th>2</th>\n",
       "      <td>98.550000</td>\n",
       "      <td>Customer</td>\n",
       "    </tr>\n",
       "    <tr>\n",
       "      <th>3</th>\n",
       "      <td>101.316667</td>\n",
       "      <td>Customer</td>\n",
       "    </tr>\n",
       "    <tr>\n",
       "      <th>4</th>\n",
       "      <td>96.333333</td>\n",
       "      <td>Customer</td>\n",
       "    </tr>\n",
       "  </tbody>\n",
       "</table>\n",
       "</div>"
      ],
      "text/plain": [
       "   duration_min subscriber_type\n",
       "0     43.633333        Customer\n",
       "1     99.283333        Customer\n",
       "2     98.550000        Customer\n",
       "3    101.316667        Customer\n",
       "4     96.333333        Customer"
      ]
     },
     "execution_count": 94,
     "metadata": {},
     "output_type": "execute_result"
    }
   ],
   "source": [
    "durations_by_membership.head()"
   ]
  },
  {
   "cell_type": "code",
   "execution_count": 95,
   "metadata": {},
   "outputs": [],
   "source": [
    "non_subscribers = durations_by_membership[durations_by_membership['subscriber_type'] == 'Customer']\n",
    "subscribers = durations_by_membership[durations_by_membership['subscriber_type'] == 'Subscriber']"
   ]
  },
  {
   "cell_type": "code",
   "execution_count": 116,
   "metadata": {},
   "outputs": [
    {
     "data": {
      "image/png": "[encoded data removed]",
      "text/plain": [
       "<Figure size 432x288 with 1 Axes>"
      ]
     },
     "metadata": {
      "needs_background": "light"
     },
     "output_type": "display_data"
    }
   ],
   "source": [
    "sns.kdeplot(data=non_subscribers['duration_min'])\n",
    "sns.kdeplot(data=subscribers['duration_min'])\n",
    "plt.title(\"Trip Duration by Membership Type\")\n",
    "plt.legend([\"Non-Subscribers\", \"Subscribers\"])\n",
    "plt.xlim(0,400)\n",
    "plt.xticks([i for i in range(0, 400, 20)], rotation='vertical')\n",
    "plt.xlabel(\"Trip Duration (minutes)\")\n",
    "plt.ylabel(\"Density\")\n",
    "\n",
    "plt.show()"
   ]
  },
  {
   "cell_type": "markdown",
   "metadata": {},
   "source": [
    "Since the average trip length for non-subscribers is significantly longer than that of subscribers, we may be able to increase our subscriber count by changing the maximum free duration length for subscribers from 45 minutes to 60 minutes. From the website (https://help.baywheels.com/hc/en-us/articles/360033788692-Annual-memberships):\n",
    "\n",
    "\"$149/ yr Annual Membership includes:\n",
    "\n",
    "Unlimited 45-minute rides for a full year\n",
    "24/7 access to thousands of bikes in San Francisco, East Bay, and San Jose\n",
    "Trips longer than 45 minutes will incur an extra $3 per each additional 45-minutes.\"\n",
    "\n",
    "The offer is similar for Monthly Memberships.\n",
    "\n",
    "Since it appears that non-subscribers spend much more time on their bikes than subscribers (53 and a half minutes compared to 9 and a half minutes on average), we may be able to convince more one-off riders to become subscribers if we increase the maximum free duration for subscribers from 45 minutes to 60 minutes.\n",
    "\n",
    "As we can see from the density plots, many more non-subscribers had trips longer than 45 minutes than subscribers. So, by modifying the annual membership and monthly membership to have free trips up to an hour rather than 45 minutes (since the peak density of non-subscriber trips appear to be between 40-60 minutes long) we may be able to convince more non-subscribers to become members."
   ]
  },
  {
   "cell_type": "markdown",
   "metadata": {},
   "source": [
    "### Recommendation 3: Increase advertisement of the Corporate Membership subscription."
   ]
  },
  {
   "cell_type": "code",
   "execution_count": 25,
   "metadata": {},
   "outputs": [],
   "source": [
    "%%bigquery --use_rest_api commuter_trips_by_subscriber_type\n",
    "SELECT\n",
    "subscriber_type,\n",
    "COUNT(subscriber_type) AS number_of_trips\n",
    "FROM\n",
    "`bike_trip_data.commuter_trips`\n",
    "GROUP BY\n",
    "subscriber_type"
   ]
  },
  {
   "cell_type": "code",
   "execution_count": 26,
   "metadata": {},
   "outputs": [
    {
     "data": {
      "text/html": [
       "<div>\n",
       "<style scoped>\n",
       "    .dataframe tbody tr th:only-of-type {\n",
       "        vertical-align: middle;\n",
       "    }\n",
       "\n",
       "    .dataframe tbody tr th {\n",
       "        vertical-align: top;\n",
       "    }\n",
       "\n",
       "    .dataframe thead th {\n",
       "        text-align: right;\n",
       "    }\n",
       "</style>\n",
       "<table border=\"1\" class=\"dataframe\">\n",
       "  <thead>\n",
       "    <tr style=\"text-align: right;\">\n",
       "      <th></th>\n",
       "      <th>subscriber_type</th>\n",
       "      <th>number_of_trips</th>\n",
       "    </tr>\n",
       "  </thead>\n",
       "  <tbody>\n",
       "    <tr>\n",
       "      <th>0</th>\n",
       "      <td>Customer</td>\n",
       "      <td>23581</td>\n",
       "    </tr>\n",
       "    <tr>\n",
       "      <th>1</th>\n",
       "      <td>Subscriber</td>\n",
       "      <td>424252</td>\n",
       "    </tr>\n",
       "  </tbody>\n",
       "</table>\n",
       "</div>"
      ],
      "text/plain": [
       "  subscriber_type  number_of_trips\n",
       "0        Customer            23581\n",
       "1      Subscriber           424252"
      ]
     },
     "execution_count": 26,
     "metadata": {},
     "output_type": "execute_result"
    }
   ],
   "source": [
    "commuter_trips_by_subscriber_type"
   ]
  },
  {
   "cell_type": "code",
   "execution_count": 27,
   "metadata": {},
   "outputs": [
    {
     "data": {
      "text/plain": [
       "0.05265578909995467"
      ]
     },
     "execution_count": 27,
     "metadata": {},
     "output_type": "execute_result"
    }
   ],
   "source": [
    "commuter_trips_by_subscriber_type['number_of_trips'].tolist()[0]/(\n",
    "    commuter_trips_by_subscriber_type['number_of_trips'].tolist()[0] + \n",
    "    commuter_trips_by_subscriber_type['number_of_trips'].tolist()[1])"
   ]
  },
  {
   "cell_type": "markdown",
   "metadata": {},
   "source": [
    "Most commuters appear to be subscribers, implying they may be using the Corporate Membership subscription. However, we still have approximately 5% of apparent commuters who are not subscribers at all; because of this, I suggest we advertise our Corporate Membership more. Not only would we be able to potentially decrease the percent of non-subscribing commuters, but we may also increase the number of companies overall who subscribe to the Corporate Membership."
   ]
  },
  {
   "cell_type": "markdown",
   "metadata": {},
   "source": [
    "### Recommendation 4: Offer discounts on weekends, or weekend-specific memberships to increase weekend trips."
   ]
  },
  {
   "cell_type": "code",
   "execution_count": 61,
   "metadata": {},
   "outputs": [
    {
     "name": "stderr",
     "output_type": "stream",
     "text": [
      "/opt/conda/lib/python3.7/site-packages/google/cloud/bigquery/client.py:407: UserWarning: Cannot create BigQuery Storage client, the dependency google-cloud-bigquery-storage is not installed.\n",
      "  \"Cannot create BigQuery Storage client, the dependency \"\n"
     ]
    }
   ],
   "source": [
    "%%bigquery --use_rest_api trips_by_day\n",
    "SELECT\n",
    "dow_str,\n",
    "COUNT(dow_str) AS day_counts\n",
    "FROM\n",
    "`bike_trip_data.day_time_trips`\n",
    "GROUP BY\n",
    "dow_str"
   ]
  },
  {
   "cell_type": "code",
   "execution_count": 62,
   "metadata": {},
   "outputs": [
    {
     "data": {
      "text/html": [
       "<div>\n",
       "<style scoped>\n",
       "    .dataframe tbody tr th:only-of-type {\n",
       "        vertical-align: middle;\n",
       "    }\n",
       "\n",
       "    .dataframe tbody tr th {\n",
       "        vertical-align: top;\n",
       "    }\n",
       "\n",
       "    .dataframe thead th {\n",
       "        text-align: right;\n",
       "    }\n",
       "</style>\n",
       "<table border=\"1\" class=\"dataframe\">\n",
       "  <thead>\n",
       "    <tr style=\"text-align: right;\">\n",
       "      <th></th>\n",
       "      <th>dow_str</th>\n",
       "      <th>day_counts</th>\n",
       "    </tr>\n",
       "  </thead>\n",
       "  <tbody>\n",
       "    <tr>\n",
       "      <th>0</th>\n",
       "      <td>Monday</td>\n",
       "      <td>169937</td>\n",
       "    </tr>\n",
       "    <tr>\n",
       "      <th>1</th>\n",
       "      <td>Tuesday</td>\n",
       "      <td>184405</td>\n",
       "    </tr>\n",
       "    <tr>\n",
       "      <th>2</th>\n",
       "      <td>Wednesday</td>\n",
       "      <td>180767</td>\n",
       "    </tr>\n",
       "    <tr>\n",
       "      <th>3</th>\n",
       "      <td>Thursday</td>\n",
       "      <td>176908</td>\n",
       "    </tr>\n",
       "    <tr>\n",
       "      <th>4</th>\n",
       "      <td>Friday</td>\n",
       "      <td>159977</td>\n",
       "    </tr>\n",
       "    <tr>\n",
       "      <th>5</th>\n",
       "      <td>Saturday</td>\n",
       "      <td>60279</td>\n",
       "    </tr>\n",
       "    <tr>\n",
       "      <th>6</th>\n",
       "      <td>Sunday</td>\n",
       "      <td>51375</td>\n",
       "    </tr>\n",
       "  </tbody>\n",
       "</table>\n",
       "</div>"
      ],
      "text/plain": [
       "     dow_str  day_counts\n",
       "0     Monday      169937\n",
       "1    Tuesday      184405\n",
       "2  Wednesday      180767\n",
       "3   Thursday      176908\n",
       "4     Friday      159977\n",
       "5   Saturday       60279\n",
       "6     Sunday       51375"
      ]
     },
     "execution_count": 62,
     "metadata": {},
     "output_type": "execute_result"
    }
   ],
   "source": [
    "trips_by_day = trips_by_day.reindex([5, 3, 6, 0, 2, 4, 1]).reset_index().drop('index', axis=1)\n",
    "trips_by_day"
   ]
  },
  {
   "cell_type": "code",
   "execution_count": 63,
   "metadata": {},
   "outputs": [
    {
     "data": {
      "image/png": "[encoded data removed]",
      "text/plain": [
       "<Figure size 432x288 with 1 Axes>"
      ]
     },
     "metadata": {
      "needs_background": "light"
     },
     "output_type": "display_data"
    }
   ],
   "source": [
    "plt.bar(trips_by_day['dow_str'], trips_by_day['day_counts']/trips_by_day['day_counts'].sum())\n",
    "plt.title(\"Percent of Trips Made Each Day of the Week\")\n",
    "plt.xlabel(\"Day of Week\")\n",
    "plt.ylabel(\"Percent of Trips\")\n",
    "plt.xticks(trips_by_day['dow_str'], rotation = 'vertical')\n",
    "plt.show()"
   ]
  },
  {
   "cell_type": "markdown",
   "metadata": {},
   "source": [
    "Since such a small proportion of trips are made on weekends, we may be able to increase the number of weekend trips by offering either a membership specific to weekend trips, or discounting trips made on weekends."
   ]
  },
  {
   "cell_type": "markdown",
   "metadata": {},
   "source": [
    "## Appendix: SQL View Queries\n",
    "\n",
    "### number_of_trips_by_station view:\n",
    "```\n",
    "SELECT \n",
    "    start_station_name,\n",
    "    end_station_name,\n",
    "    COUNT(*) AS number_of_trips\n",
    "FROM\n",
    "    `bigquery-public-data.san_francisco.bikeshare_trips`\n",
    "WHERE\n",
    "    start_station_name <> end_station_name\n",
    "GROUP BY\n",
    "    start_station_name,\n",
    "    end_station_name\n",
    "ORDER BY\n",
    "    number_of_trips ASC\n",
    "```\n",
    "\n",
    "### day_time_trips view:\n",
    "```\n",
    "SELECT trip_id, subscriber_type, start_date,\n",
    "       EXTRACT(DAYOFWEEK FROM start_date) AS dow_int,\n",
    "       CASE EXTRACT(DAYOFWEEK FROM start_date)\n",
    "           WHEN 1 THEN \"Sunday\"\n",
    "           WHEN 2 THEN \"Monday\"\n",
    "           WHEN 3 THEN \"Tuesday\"\n",
    "           WHEN 4 THEN \"Wednesday\"\n",
    "           WHEN 5 THEN \"Thursday\"\n",
    "           WHEN 6 THEN \"Friday\"\n",
    "           WHEN 7 THEN \"Saturday\"\n",
    "           END AS dow_str,\n",
    "       CASE \n",
    "           WHEN EXTRACT(DAYOFWEEK FROM start_date) IN (1, 7) THEN \"Weekend\"\n",
    "           ELSE \"Weekday\"\n",
    "           END AS dow_weekday,\n",
    "       EXTRACT(HOUR FROM start_date) AS start_hour,\n",
    "       CASE \n",
    "           WHEN EXTRACT(HOUR FROM start_date) <= 5  OR EXTRACT(HOUR FROM start_date) >= 23 THEN \"Nightime\"\n",
    "           WHEN EXTRACT(HOUR FROM start_date) >= 6 and EXTRACT(HOUR FROM start_date) <= 8 THEN \"Morning\"\n",
    "           WHEN EXTRACT(HOUR FROM start_date) >= 9 and EXTRACT(HOUR FROM start_date) <= 10 THEN \"Mid Morning\"\n",
    "           WHEN EXTRACT(HOUR FROM start_date) >= 11 and EXTRACT(HOUR FROM start_date) <= 13 THEN \"Mid Day\"\n",
    "           WHEN EXTRACT(HOUR FROM start_date) >= 14 and EXTRACT(HOUR FROM start_date) <= 16 THEN \"Early Afternoon\"\n",
    "           WHEN EXTRACT(HOUR FROM start_date) >= 17 and EXTRACT(HOUR FROM start_date) <= 19 THEN \"Afternoon\"\n",
    "           WHEN EXTRACT(HOUR FROM start_date) >= 20 and EXTRACT(HOUR FROM start_date) <= 22 THEN \"Evening\"\n",
    "           END AS start_hour_str\n",
    "FROM `bigquery-public-data.san_francisco.bikeshare_trips`\n",
    "ORDER BY start_date ASC\n",
    "```\n",
    "\n",
    "### trips_by_station view:\n",
    "```\n",
    "SELECT\n",
    "  trip_id,\n",
    "  start_station_name,\n",
    "  end_station_name\n",
    "FROM\n",
    "  `bigquery-public-data.san_francisco.bikeshare_trips`\n",
    "WHERE\n",
    "  start_station_name <> end_station_name\n",
    "ORDER BY\n",
    "  1,\n",
    "  2,\n",
    "  3\n",
    "```\n",
    "\n",
    "### commuter_trips view:\n",
    "```\n",
    "SELECT\n",
    "  trip_id,\n",
    "  dow_weekday,\n",
    "  start_hour_str,\n",
    "  subscriber_type\n",
    "FROM\n",
    "  `sept-20.bike_trip_data.day_time_trips`\n",
    "WHERE\n",
    "  dow_weekday = 'Weekday' AND (start_hour_str = 'Morning' OR start_hour_str = 'Afternoon')\n",
    "```\n",
    "\n",
    "### commuter_trip_stations view:\n",
    "```\n",
    "SELECT\n",
    "  `sept-20.bike_trip_data.trips_by_station`.start_station_name,\n",
    "  `sept-20.bike_trip_data.trips_by_station`.end_station_name,\n",
    "  `sept-20.bike_trip_data.trips_by_station`.start_station_id,\n",
    "  `sept-20.bike_trip_data.trips_by_station`.end_station_id\n",
    "FROM\n",
    "  `sept-20.bike_trip_data.trips_by_station`\n",
    "INNER JOIN\n",
    "  `sept-20.bike_trip_data.commuter_trips`\n",
    "ON\n",
    "  `sept-20.bike_trip_data.trips_by_station`.trip_id=`sept-20.bike_trip_data.commuter_trips`.trip_id\n",
    "```\n",
    "\n",
    "### commuter_trips_with_empty_bikes view\n",
    "```\n",
    "SELECT\n",
    "  `sept-20.bike_trip_data.commuter_trip_stations`.start_station_name,\n",
    "  `sept-20.bike_trip_data.commuter_trip_stations`.end_station_name,\n",
    "  `sept-20.bike_trip_data.commuter_trip_stations`.start_station_id,\n",
    "  `sept-20.bike_trip_data.commuter_trip_stations`.end_station_id\n",
    "FROM\n",
    "  `sept-20.bike_trip_data.commuter_trip_stations`\n",
    "INNER JOIN\n",
    "  `sept-20.bike_trip_data.empty_station_names`\n",
    "ON\n",
    "  `sept-20.bike_trip_data.empty_station_names`.station_id=`sept-20.bike_trip_data.commuter_trip_stations`.start_station_id\n",
    "```\n",
    "\n",
    "### commuter_stations_with_empty_bikes view\n",
    "```\n",
    "SELECT\n",
    "  start_station_id,\n",
    "  start_station_name,\n",
    "  end_station_name,\n",
    "  COUNT(*) AS number_of_trips\n",
    "FROM\n",
    "  `sept-20.bike_trip_data.commuter_trips_with_empty_bikes`\n",
    "WHERE\n",
    "  start_station_name <> end_station_name\n",
    "GROUP BY\n",
    "  start_station_name,\n",
    "  end_station_name,\n",
    "  start_station_id\n",
    "HAVING\n",
    "  number_of_trips > 100\n",
    "ORDER BY\n",
    "  number_of_trips DESC\n",
    "```\n",
    "\n",
    "### empty_stations_counts view\n",
    "```\n",
    "SELECT\n",
    "  station_id,\n",
    "  COUNT(station_id) AS counts\n",
    "FROM\n",
    "  `bigquery-public-data.san_francisco.bikeshare_status`\n",
    "WHERE\n",
    "  bikes_available = 0\n",
    "GROUP BY\n",
    "  station_id\n",
    "```"
   ]
  },
  {
   "cell_type": "code",
   "execution_count": null,
   "metadata": {},
   "outputs": [],
   "source": []
  }
 ],
 "metadata": {
  "environment": {
   "name": "tf2-2-3-gpu.2-3.m55",
   "type": "gcloud",
   "uri": "gcr.io/deeplearning-platform-release/tf2-2-3-gpu.2-3:m55"
  },
  "kernelspec": {
   "display_name": "Python 3",
   "language": "python",
   "name": "python3"
  },
  "language_info": {
   "codemirror_mode": {
    "name": "ipython",
    "version": 3
   },
   "file_extension": ".py",
   "mimetype": "text/x-python",
   "name": "python",
   "nbconvert_exporter": "python",
   "pygments_lexer": "ipython3",
   "version": "3.7.8"
  }
 },
 "nbformat": 4,
 "nbformat_minor": 4
}
