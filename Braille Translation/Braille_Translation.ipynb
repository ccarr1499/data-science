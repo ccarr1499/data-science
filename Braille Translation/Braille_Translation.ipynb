{
 "cells": [
  {
   "cell_type": "markdown",
   "metadata": {},
   "source": [
    "# Braille Translation\n",
    "### Christina Carr and Mariam Germanyan\n",
    "____________________________\n",
    "This project sought to create an image translation system for English Braille. Our first model takes in images of English Braille words, splits them into their component characters, and translates them into the English Latin alphabet in a method reminiscent of optical character recognition. "
   ]
  },
  {
   "cell_type": "markdown",
   "metadata": {},
   "source": [
    "# Imports"
   ]
  },
  {
   "cell_type": "code",
   "execution_count": 1,
   "metadata": {},
   "outputs": [
    {
     "name": "stderr",
     "output_type": "stream",
     "text": [
      "[nltk_data] Downloading package words to /Users/mariam/nltk_data...\n",
      "[nltk_data]   Package words is already up-to-date!\n",
      "[nltk_data] Downloading package brown to /Users/mariam/nltk_data...\n",
      "[nltk_data]   Package brown is already up-to-date!\n"
     ]
    }
   ],
   "source": [
    "import matplotlib.pyplot as plt\n",
    "import PIL\n",
    "import numpy as np\n",
    "from PIL import Image\n",
    "import os\n",
    "import glob\n",
    "\n",
    "from matplotlib import cm\n",
    "\n",
    "%matplotlib inline\n",
    "\n",
    "# Import a bunch of libraries.\n",
    "import time\n",
    "from sklearn.cluster import KMeans\n",
    "from matplotlib.ticker import MultipleLocator\n",
    "from sklearn.pipeline import Pipeline\n",
    "from sklearn.datasets import fetch_openml\n",
    "from sklearn.neighbors import KNeighborsClassifier\n",
    "from sklearn.metrics import confusion_matrix\n",
    "from sklearn.linear_model import LinearRegression\n",
    "from sklearn.naive_bayes import BernoulliNB\n",
    "from sklearn.naive_bayes import MultinomialNB\n",
    "from sklearn.naive_bayes import GaussianNB\n",
    "from sklearn.model_selection import GridSearchCV\n",
    "from sklearn.metrics import classification_report\n",
    "from shutil import copyfile\n",
    "from pybraille import convertText\n",
    "\n",
    "from nltk.corpus import words\n",
    "import collections\n",
    "import enchant\n",
    "import csv\n",
    "import math, collections\n",
    "import pandas as pd\n",
    "import re\n",
    "import itertools\n",
    "import nltk\n",
    "import nltk.data\n",
    "nltk.download('words')\n",
    "import string\n",
    "nltk.download('brown')\n",
    "from tensorflow.keras.preprocessing import image\n",
    "from scipy import ndimage, misc\n",
    "import cv2\n",
    "\n",
    "# Set the randomizer seed so results are the same each time.\n",
    "np.random.seed(0)"
   ]
  },
  {
   "cell_type": "markdown",
   "metadata": {},
   "source": [
    "# Approach 1: Preprocessing Data at the Sentence Level\n",
    "### Reading in sentences that we created"
   ]
  },
  {
   "cell_type": "code",
   "execution_count": 21,
   "metadata": {},
   "outputs": [],
   "source": [
    "path = os.getcwd() + '/test_words'\n",
    "def read_files(path):\n",
    "\n",
    "    all_files = glob.glob(path + \"/*.png\")\n",
    "\n",
    "    sentences = []\n",
    "    images = []\n",
    "    for filename in all_files:\n",
    "        with Image.open(filename) as img:\n",
    "            sentence = os.path.basename(os.path.normpath(os.path.splitext(filename)[0]))\n",
    "            sentences.append(sentence)\n",
    "            first = np.array(img)[:,:,0].T[0:28].T\n",
    "            second = np.array(img)[:,:,0].T[28:56].T\n",
    "            third = np.array(img)[:,:,0].T[56:].T\n",
    "            first = cv2.cvtColor(first, cv2.COLOR_GRAY2BGR)\n",
    "            second = cv2.cvtColor(second, cv2.COLOR_GRAY2BGR)\n",
    "            third = cv2.cvtColor(third, cv2.COLOR_GRAY2BGR)\n",
    "            images.append([Image.fromarray(first), Image.fromarray(second), Image.fromarray(third)])\n",
    "    return sentences, images\n"
   ]
  },
  {
   "cell_type": "code",
   "execution_count": 22,
   "metadata": {},
   "outputs": [],
   "source": [
    "english_words, braille_images = read_files(path)"
   ]
  },
  {
   "cell_type": "code",
   "execution_count": 15,
   "metadata": {},
   "outputs": [
    {
     "data": {
      "text/plain": [
       "'hyp'"
      ]
     },
     "execution_count": 15,
     "metadata": {},
     "output_type": "execute_result"
    }
   ],
   "source": [
    "english_words[0]"
   ]
  },
  {
   "cell_type": "code",
   "execution_count": 13,
   "metadata": {},
   "outputs": [
    {
     "data": {
      "image/png": "[encoded data removed]",
      "text/plain": [
       "<PIL.Image.Image image mode=RGB size=28x28 at 0x7FF5BE814410>"
      ]
     },
     "execution_count": 13,
     "metadata": {},
     "output_type": "execute_result"
    }
   ],
   "source": [
    "braille_images[0][0]\n"
   ]
  },
  {
   "cell_type": "code",
   "execution_count": 14,
   "metadata": {},
   "outputs": [
    {
     "data": {
      "image/png": "[encoded data removed]",
      "text/plain": [
       "<PIL.Image.Image image mode=RGB size=28x28 at 0x7FF5A892DE50>"
      ]
     },
     "execution_count": 14,
     "metadata": {},
     "output_type": "execute_result"
    }
   ],
   "source": [
    "braille_images[0][1]"
   ]
  },
  {
   "cell_type": "code",
   "execution_count": 17,
   "metadata": {},
   "outputs": [
    {
     "data": {
      "image/png": "[encoded data removed]",
      "text/plain": [
       "<PIL.Image.Image image mode=RGB size=28x28 at 0x7FF5A89391D0>"
      ]
     },
     "execution_count": 17,
     "metadata": {},
     "output_type": "execute_result"
    }
   ],
   "source": [
    "braille_images[0][2]"
   ]
  },
  {
   "cell_type": "code",
   "execution_count": null,
   "metadata": {},
   "outputs": [],
   "source": [
    "# code that was used to convert the corpus of words into braille images as input\n",
    "# path = os.getcwd() + '/test_words/'\n",
    "# #os.mkdir(path)\n",
    "\n",
    "# def get_concat_h(im1, im2):\n",
    "#     dst = Image.new('RGB', (im1.width + im2.width, im1.height))\n",
    "#     dst.paste(im1, (0, 0))\n",
    "#     dst.paste(im2, (im1.width, 0))\n",
    "#     return dst\n",
    "\n",
    "# for word in test:\n",
    "#     img1 = Image.open(os.getcwd() + '/266 Photos/test/'+ word[0] + '.png')\n",
    "#     img2 =  Image.open(os.getcwd() + '/266 Photos/test/' + word[1] + '.png')\n",
    "#     img3 =  Image.open(os.getcwd() + '/266 Photos/test/'+ word[2] +'.png')\n",
    "#     half_image = get_concat_h(img1, img2)\n",
    "#     full_image = get_concat_h(half_image, img3)\n",
    "#     full_image.save(path + word + '.png')"
   ]
  },
  {
   "cell_type": "code",
   "execution_count": 70,
   "metadata": {},
   "outputs": [],
   "source": [
    "# Get the images into corresponding folders and filter out some data."
   ]
  },
  {
   "cell_type": "code",
   "execution_count": 24,
   "metadata": {},
   "outputs": [],
   "source": [
    "# os.mkdir('./images/')\n",
    "\n",
    "# alpha = 'a'\n",
    "# for i in range(0, 26): \n",
    "#     os.mkdir('./images/' + alpha)\n",
    "#     alpha = chr(ord(alpha) + 1)\n",
    "\n",
    "# rootdir = os.getcwd() + '/archive/Braille Dataset/Braille Dataset/'\n",
    "# for file in os.listdir(rootdir):\n",
    "#     letter = file[0]\n",
    "#     copyfile(rootdir+file, './images/' + letter + '/' + file)"
   ]
  },
  {
   "cell_type": "code",
   "execution_count": 25,
   "metadata": {},
   "outputs": [],
   "source": [
    "# path = os.getcwd() + '/archive/Braille Dataset/Braille Dataset/'\n",
    "# all_files = glob.glob(path + \"/*.jpg\") \n",
    "# for file_path in all_files:\n",
    "#     if file_path[-7:-4] == 'rot':\n",
    "#         os.remove(file_path)\n",
    "# path = os.getcwd() + '/archive/Braille Dataset/Braille Dataset/'\n",
    "# all_files = glob.glob(path + \"/*.jpg\") \n",
    "# for file_path in all_files:\n",
    "#     if file_path[-7:-4] == 'dim':\n",
    "#         os.remove(file_path)"
   ]
  },
  {
   "cell_type": "markdown",
   "metadata": {},
   "source": [
    "# Pre-existing Model Training on kaggle data at the individual character level"
   ]
  },
  {
   "cell_type": "code",
   "execution_count": 26,
   "metadata": {},
   "outputs": [
    {
     "name": "stdout",
     "output_type": "stream",
     "text": [
      "Found 364 images belonging to 26 classes.\n",
      "Found 156 images belonging to 26 classes.\n"
     ]
    }
   ],
   "source": [
    "from keras.preprocessing.image import ImageDataGenerator\n",
    "datagen = ImageDataGenerator(validation_split=0.3)\n",
    "\n",
    "train_generator = datagen.flow_from_directory('./images/',\n",
    "                                              target_size=(28,28),\n",
    "                                              subset='training')\n",
    "\n",
    "val_generator = datagen.flow_from_directory('./images/',\n",
    "                                            target_size=(28,28),\n",
    "                                            subset='validation')\n"
   ]
  },
  {
   "cell_type": "code",
   "execution_count": 27,
   "metadata": {},
   "outputs": [
    {
     "name": "stdout",
     "output_type": "stream",
     "text": [
      "WARNING:tensorflow:From <ipython-input-27-0a24e84c51a8>:33: Model.fit_generator (from tensorflow.python.keras.engine.training) is deprecated and will be removed in a future version.\n",
      "Instructions for updating:\n",
      "Please use Model.fit, which supports generators.\n",
      "Epoch 1/60\n",
      "12/12 [==============================] - 1s 56ms/step - loss: 3.3212 - accuracy: 0.0330 - val_loss: 3.2737 - val_accuracy: 0.0385\n",
      "Epoch 2/60\n",
      "12/12 [==============================] - 0s 29ms/step - loss: 3.2764 - accuracy: 0.0275 - val_loss: 3.2646 - val_accuracy: 0.0833\n",
      "Epoch 3/60\n",
      "12/12 [==============================] - 0s 36ms/step - loss: 3.2543 - accuracy: 0.0495 - val_loss: 3.2417 - val_accuracy: 0.0385\n",
      "Epoch 4/60\n",
      "12/12 [==============================] - 0s 33ms/step - loss: 3.2139 - accuracy: 0.0687 - val_loss: 3.1913 - val_accuracy: 0.0705\n",
      "Epoch 5/60\n",
      "12/12 [==============================] - 0s 32ms/step - loss: 3.1183 - accuracy: 0.1538 - val_loss: 3.0554 - val_accuracy: 0.1218\n",
      "Epoch 6/60\n",
      "12/12 [==============================] - 0s 30ms/step - loss: 2.8974 - accuracy: 0.1538 - val_loss: 2.8142 - val_accuracy: 0.1603\n",
      "Epoch 7/60\n",
      "12/12 [==============================] - 0s 31ms/step - loss: 2.4852 - accuracy: 0.3022 - val_loss: 2.3618 - val_accuracy: 0.2628\n",
      "Epoch 8/60\n",
      "12/12 [==============================] - 0s 28ms/step - loss: 2.0611 - accuracy: 0.4231 - val_loss: 2.2464 - val_accuracy: 0.2885\n",
      "Epoch 9/60\n",
      "12/12 [==============================] - 0s 32ms/step - loss: 1.6496 - accuracy: 0.5220 - val_loss: 1.9334 - val_accuracy: 0.3654\n",
      "Epoch 10/60\n",
      "12/12 [==============================] - 0s 29ms/step - loss: 1.4605 - accuracy: 0.5330 - val_loss: 1.7513 - val_accuracy: 0.5064\n",
      "Epoch 11/60\n",
      "12/12 [==============================] - 0s 33ms/step - loss: 1.1489 - accuracy: 0.6264 - val_loss: 1.5061 - val_accuracy: 0.5513\n",
      "Epoch 12/60\n",
      "12/12 [==============================] - 0s 26ms/step - loss: 0.9098 - accuracy: 0.7143 - val_loss: 1.5591 - val_accuracy: 0.4808\n",
      "Epoch 13/60\n",
      "12/12 [==============================] - 0s 30ms/step - loss: 0.7671 - accuracy: 0.7390 - val_loss: 1.4268 - val_accuracy: 0.5128\n",
      "Epoch 14/60\n",
      "12/12 [==============================] - 0s 29ms/step - loss: 0.6179 - accuracy: 0.8269 - val_loss: 1.2776 - val_accuracy: 0.5705\n",
      "Epoch 15/60\n",
      "12/12 [==============================] - 0s 29ms/step - loss: 0.5377 - accuracy: 0.8269 - val_loss: 1.1293 - val_accuracy: 0.6218\n",
      "Epoch 16/60\n",
      "12/12 [==============================] - 0s 28ms/step - loss: 0.3870 - accuracy: 0.8984 - val_loss: 1.0943 - val_accuracy: 0.6667\n",
      "Epoch 17/60\n",
      "12/12 [==============================] - 0s 26ms/step - loss: 0.3157 - accuracy: 0.9258 - val_loss: 1.1738 - val_accuracy: 0.6154\n",
      "Epoch 18/60\n",
      "12/12 [==============================] - 0s 28ms/step - loss: 0.2695 - accuracy: 0.9341 - val_loss: 1.0450 - val_accuracy: 0.7179\n",
      "Epoch 19/60\n",
      "12/12 [==============================] - 0s 28ms/step - loss: 0.1967 - accuracy: 0.9478 - val_loss: 0.9740 - val_accuracy: 0.7179\n",
      "Epoch 20/60\n",
      "12/12 [==============================] - 0s 28ms/step - loss: 0.1733 - accuracy: 0.9560 - val_loss: 1.0734 - val_accuracy: 0.6795\n",
      "Epoch 21/60\n",
      "12/12 [==============================] - 0s 29ms/step - loss: 0.1828 - accuracy: 0.9560 - val_loss: 1.2353 - val_accuracy: 0.6987\n",
      "Epoch 22/60\n",
      "12/12 [==============================] - 0s 27ms/step - loss: 0.1863 - accuracy: 0.9588 - val_loss: 1.1477 - val_accuracy: 0.7244\n",
      "Epoch 23/60\n",
      "12/12 [==============================] - 0s 27ms/step - loss: 0.1321 - accuracy: 0.9643 - val_loss: 1.0333 - val_accuracy: 0.6987\n",
      "Epoch 24/60\n",
      "12/12 [==============================] - 0s 26ms/step - loss: 0.1164 - accuracy: 0.9863 - val_loss: 0.9973 - val_accuracy: 0.7436\n",
      "Epoch 25/60\n",
      "12/12 [==============================] - 0s 28ms/step - loss: 0.0810 - accuracy: 0.9863 - val_loss: 0.9201 - val_accuracy: 0.7564\n",
      "Epoch 26/60\n",
      "12/12 [==============================] - 0s 28ms/step - loss: 0.0645 - accuracy: 0.9945 - val_loss: 0.8960 - val_accuracy: 0.7628\n",
      "Epoch 27/60\n",
      "12/12 [==============================] - 0s 28ms/step - loss: 0.0692 - accuracy: 0.9945 - val_loss: 0.8635 - val_accuracy: 0.7628\n",
      "Epoch 28/60\n",
      "12/12 [==============================] - 0s 27ms/step - loss: 0.0572 - accuracy: 0.9945 - val_loss: 0.8671 - val_accuracy: 0.7949\n",
      "Epoch 29/60\n",
      "12/12 [==============================] - 0s 27ms/step - loss: 0.0474 - accuracy: 0.9973 - val_loss: 0.8724 - val_accuracy: 0.8141\n",
      "Epoch 30/60\n",
      "12/12 [==============================] - 0s 28ms/step - loss: 0.0568 - accuracy: 0.9973 - val_loss: 0.8510 - val_accuracy: 0.7692\n",
      "Epoch 31/60\n",
      "12/12 [==============================] - 0s 26ms/step - loss: 0.0433 - accuracy: 1.0000 - val_loss: 0.9322 - val_accuracy: 0.8013\n",
      "Epoch 32/60\n",
      "12/12 [==============================] - 0s 30ms/step - loss: 0.0530 - accuracy: 0.9918 - val_loss: 1.0029 - val_accuracy: 0.7436\n",
      "Epoch 33/60\n",
      "12/12 [==============================] - 0s 26ms/step - loss: 0.0566 - accuracy: 0.9918 - val_loss: 1.1831 - val_accuracy: 0.7436\n",
      "Epoch 34/60\n",
      "12/12 [==============================] - 0s 27ms/step - loss: 0.0634 - accuracy: 0.9890 - val_loss: 1.0154 - val_accuracy: 0.7756\n",
      "Epoch 35/60\n",
      "12/12 [==============================] - 0s 25ms/step - loss: 0.0398 - accuracy: 0.9973 - val_loss: 1.0453 - val_accuracy: 0.7436\n",
      "Epoch 36/60\n",
      "12/12 [==============================] - 0s 30ms/step - loss: 0.0494 - accuracy: 0.9945 - val_loss: 0.9691 - val_accuracy: 0.7756\n",
      "Epoch 37/60\n",
      "12/12 [==============================] - 0s 27ms/step - loss: 0.0451 - accuracy: 0.9973 - val_loss: 0.9770 - val_accuracy: 0.7564\n",
      "Epoch 38/60\n",
      "12/12 [==============================] - 0s 26ms/step - loss: 0.0445 - accuracy: 0.9973 - val_loss: 1.3017 - val_accuracy: 0.6923\n",
      "Epoch 39/60\n",
      "12/12 [==============================] - 0s 26ms/step - loss: 0.0708 - accuracy: 0.9863 - val_loss: 1.0589 - val_accuracy: 0.7500\n",
      "Epoch 40/60\n",
      "12/12 [==============================] - 0s 29ms/step - loss: 0.0291 - accuracy: 1.0000 - val_loss: 0.9641 - val_accuracy: 0.7885\n",
      "Epoch 41/60\n",
      "12/12 [==============================] - 0s 26ms/step - loss: 0.0297 - accuracy: 1.0000 - val_loss: 0.9649 - val_accuracy: 0.7885\n",
      "Epoch 42/60\n",
      "12/12 [==============================] - 0s 26ms/step - loss: 0.0290 - accuracy: 1.0000 - val_loss: 0.9377 - val_accuracy: 0.7949\n",
      "Epoch 43/60\n",
      "12/12 [==============================] - 0s 26ms/step - loss: 0.0280 - accuracy: 1.0000 - val_loss: 0.9203 - val_accuracy: 0.8077\n",
      "Epoch 44/60\n",
      "12/12 [==============================] - 0s 29ms/step - loss: 0.0273 - accuracy: 1.0000 - val_loss: 0.9176 - val_accuracy: 0.7885\n",
      "Epoch 45/60\n",
      "12/12 [==============================] - 0s 26ms/step - loss: 0.0271 - accuracy: 1.0000 - val_loss: 0.9164 - val_accuracy: 0.8013\n",
      "Epoch 00045: early stopping\n"
     ]
    }
   ],
   "source": [
    "from keras import backend as K\n",
    "from keras import layers as L\n",
    "from keras.models import Model,load_model\n",
    "from keras.regularizers import l2\n",
    "from keras.callbacks import ModelCheckpoint,ReduceLROnPlateau,EarlyStopping\n",
    "\n",
    "K.clear_session()\n",
    "\n",
    "model_ckpt = ModelCheckpoint('BrailleNet.h5',save_best_only=True)\n",
    "reduce_lr = ReduceLROnPlateau(patience=8,verbose=0)\n",
    "early_stop = EarlyStopping(patience=15,verbose=1)\n",
    "\n",
    "entry = L.Input(shape=(28,28,3))\n",
    "x = L.SeparableConv2D(64,(3,3),activation='relu')(entry)\n",
    "x = L.MaxPooling2D((2,2))(x)\n",
    "x = L.SeparableConv2D(128,(3,3),activation='relu')(x)\n",
    "x = L.MaxPooling2D((2,2))(x)\n",
    "x = L.SeparableConv2D(256,(2,2),activation='relu')(x)\n",
    "x = L.GlobalMaxPooling2D()(x)\n",
    "x = L.Dense(256)(x)\n",
    "x = L.LeakyReLU()(x)\n",
    "x = L.Dense(64,kernel_regularizer=l2(2e-4))(x)\n",
    "x = L.LeakyReLU()(x)\n",
    "x = L.Dense(26,activation='softmax')(x)\n",
    "\n",
    "model = Model(entry,x)\n",
    "model.compile(loss='categorical_crossentropy',optimizer='adam',metrics=['accuracy'])\n",
    "\n",
    "history = model.fit_generator(train_generator,\n",
    "                              validation_data=val_generator,\n",
    "                              epochs=60,\n",
    "                              callbacks=[model_ckpt,reduce_lr,early_stop],\n",
    "                              verbose=1)"
   ]
  },
  {
   "cell_type": "code",
   "execution_count": 28,
   "metadata": {},
   "outputs": [],
   "source": [
    "alphabet = []\n",
    "alpha = 'a'\n",
    "for i in range(0, 26): \n",
    "    alphabet.append(alpha)\n",
    "    alpha = chr(ord(alpha) + 1)"
   ]
  },
  {
   "cell_type": "code",
   "execution_count": 29,
   "metadata": {},
   "outputs": [
    {
     "data": {
      "image/png": "[encoded data removed]",
      "text/plain": [
       "<Figure size 432x288 with 1 Axes>"
      ]
     },
     "metadata": {
      "needs_background": "light"
     },
     "output_type": "display_data"
    },
    {
     "data": {
      "image/png": "[encoded data removed]",
      "text/plain": [
       "<Figure size 432x288 with 1 Axes>"
      ]
     },
     "metadata": {
      "needs_background": "light"
     },
     "output_type": "display_data"
    },
    {
     "data": {
      "text/plain": [
       "<Figure size 432x288 with 0 Axes>"
      ]
     },
     "metadata": {},
     "output_type": "display_data"
    }
   ],
   "source": [
    "import matplotlib.pyplot as plt\n",
    "plt.plot(history.history['loss'], label='train loss')\n",
    "plt.plot(history.history['val_loss'], label='val loss')\n",
    "plt.legend()\n",
    "plt.show()\n",
    "plt.savefig('LossVal_loss')\n",
    "\n",
    "# plot the accuracy\n",
    "plt.plot(history.history['accuracy'], label='train acc')\n",
    "plt.plot(history.history['val_accuracy'], label='val acc')\n",
    "plt.legend()\n",
    "plt.show()\n",
    "plt.savefig('AccVal_acc')"
   ]
  },
  {
   "cell_type": "code",
   "execution_count": 77,
   "metadata": {},
   "outputs": [
    {
     "data": {
      "text/plain": [
       "<matplotlib.image.AxesImage at 0x7ff5a475b690>"
      ]
     },
     "execution_count": 77,
     "metadata": {},
     "output_type": "execute_result"
    },
    {
     "data": {
      "image/png": "[encoded data removed]",
      "text/plain": [
       "<Figure size 432x288 with 1 Axes>"
      ]
     },
     "metadata": {
      "needs_background": "light"
     },
     "output_type": "display_data"
    }
   ],
   "source": [
    "# kaggle data for the letter a\n",
    "from tensorflow.keras.preprocessing import image\n",
    "img=image.load_img( os.getcwd() + '/archive/Braille Dataset/Braille Dataset/a1.JPG10whs.jpg')\n",
    "plt.imshow(img)"
   ]
  },
  {
   "cell_type": "code",
   "execution_count": 78,
   "metadata": {},
   "outputs": [
    {
     "data": {
      "text/plain": [
       "<matplotlib.image.AxesImage at 0x7ff5a091a990>"
      ]
     },
     "execution_count": 78,
     "metadata": {},
     "output_type": "execute_result"
    },
    {
     "data": {
      "image/png": "[encoded data removed]",
      "text/plain": [
       "<Figure size 432x288 with 1 Axes>"
      ]
     },
     "metadata": {
      "needs_background": "light"
     },
     "output_type": "display_data"
    }
   ],
   "source": [
    "# our data for the letter a from brailletranslator.org\n",
    "img = image.load_img( os.getcwd() + '/266 Photos/test/a.png')\n",
    "plt.imshow(img)"
   ]
  },
  {
   "cell_type": "code",
   "execution_count": 30,
   "metadata": {},
   "outputs": [
    {
     "name": "stdout",
     "output_type": "stream",
     "text": [
      "predicted:  a actual:  k\n",
      "predicted:  j actual:  j\n",
      "predicted:  h actual:  h\n",
      "predicted:  i actual:  i\n",
      "predicted:  z actual:  z\n",
      "predicted:  a actual:  m\n",
      "WARNING:tensorflow:Model was constructed with shape (None, 28, 28, 3) for input Tensor(\"input_1:0\", shape=(None, 28, 28, 3), dtype=float32), but it was called on an input with incompatible shape (None, 28, 25, 3).\n",
      "predicted:  l actual:  l\n",
      "predicted:  j actual:  y\n",
      "predicted:  j actual:  n\n",
      "predicted:  z actual:  o\n",
      "predicted:  x actual:  x\n",
      "predicted:  x actual:  u\n",
      "predicted:  s actual:  b\n",
      "predicted:  a actual:  c\n",
      "predicted:  j actual:  t\n",
      "predicted:  v actual:  v\n",
      "predicted:  a actual:  a\n",
      "predicted:  j actual:  w\n",
      "predicted:  d actual:  d\n",
      "predicted:  s actual:  s\n",
      "predicted:  p actual:  r\n",
      "predicted:  z actual:  e\n",
      "predicted:  j actual:  g\n",
      "predicted:  p actual:  p\n",
      "predicted:  p actual:  q\n",
      "predicted:  p actual:  f\n",
      "accuracy:  0.4230769230769231\n"
     ]
    }
   ],
   "source": [
    "# using the keras model on our test data at the character level\n",
    "curr = './266 Photos/test/' \n",
    "actual = []\n",
    "predictions = []\n",
    "num_correct = 0\n",
    "total = 0\n",
    "for image_path in os.listdir(curr):\n",
    "    if image_path[-3:] == 'png':\n",
    "        actual.append(image_path[0])\n",
    "        img=image.load_img(curr + image_path)\n",
    "#         plt.imshow(img)\n",
    "#         plt.show()\n",
    "        x=image.img_to_array(img)\n",
    "        x=np.expand_dims(x,axis=0)\n",
    "        prediction=np.argmax(model.predict(x), axis=1)[0]\n",
    "        predictions.append(alphabet[prediction])\n",
    "        if alphabet[prediction] == image_path[0]:\n",
    "            num_correct += 1\n",
    "        total += 1    \n",
    "        print('predicted: ', alphabet[prediction], 'actual: ',image_path[0])\n",
    "print('accuracy: ', num_correct/total)"
   ]
  },
  {
   "cell_type": "code",
   "execution_count": 49,
   "metadata": {},
   "outputs": [
    {
     "name": "stdout",
     "output_type": "stream",
     "text": [
      "INFO:tensorflow:Assets written to: kaggle_model_final/assets\n"
     ]
    }
   ],
   "source": [
    "#save and load the model\n",
    "#model.save(\"kaggle_model_final\")\n",
    "#keras.models.load_model(\"my_model\")"
   ]
  },
  {
   "cell_type": "markdown",
   "metadata": {},
   "source": [
    "# 26 characters * 20 different images of different augmentation values"
   ]
  },
  {
   "cell_type": "code",
   "execution_count": 31,
   "metadata": {},
   "outputs": [],
   "source": [
    "# visualization \n",
    "def english_to_braille(word, test = True, show = True):\n",
    "    indexes = []\n",
    "    word_images = []\n",
    "    word_arrays = []\n",
    "    if test:\n",
    "        path = os.getcwd() + '/266 Photos/test/'\n",
    "        \n",
    "        all_files = glob.glob(path + \"/*.png\")    \n",
    "        all_files = np.sort(all_files)\n",
    "        for char in word:\n",
    "            \n",
    "            item = all_files[alphabet.index(char)]\n",
    "            word_images.append(item)\n",
    "            \n",
    "            img = Image.open(item)\n",
    "            word_arrays.append(img)\n",
    "            if show:\n",
    "                print(os.path.basename(os.path.normpath(os.path.splitext(item)[0])))\n",
    "                plt.imshow(img)\n",
    "                plt.show()\n",
    "        \n",
    "    else:\n",
    "        path = os.getcwd() + '/archive/Braille Dataset/Braille Dataset/'\n",
    "        all_files = glob.glob(path + \"/*.jpg\")    \n",
    "        all_files = np.sort(all_files)\n",
    "        for char in word:\n",
    "            indexes.append(alphabet.index(char))\n",
    "        for index in indexes:\n",
    "            random_number = np.random.choice(np.arange(index * 20, (index + 1) * 20))\n",
    "            word_images.append(all_files[random_number])\n",
    "        for item in word_images:\n",
    "            \n",
    "            img = Image.open(item)\n",
    "            word_arrays.append(img)\n",
    "            if show:\n",
    "                print(os.path.basename(os.path.normpath(os.path.splitext(item)[0])))\n",
    "                plt.imshow(img)\n",
    "                plt.show()\n",
    "    return word_images"
   ]
  },
  {
   "cell_type": "code",
   "execution_count": 32,
   "metadata": {},
   "outputs": [],
   "source": [
    "#the = english_to_braille('the', test = False)"
   ]
  },
  {
   "cell_type": "code",
   "execution_count": 33,
   "metadata": {},
   "outputs": [],
   "source": [
    "#the = english_to_braille('the', test = True)"
   ]
  },
  {
   "cell_type": "markdown",
   "metadata": {},
   "source": [
    "# Training"
   ]
  },
  {
   "cell_type": "code",
   "execution_count": 34,
   "metadata": {},
   "outputs": [
    {
     "data": {
      "text/plain": [
       "1161192"
      ]
     },
     "execution_count": 34,
     "metadata": {},
     "output_type": "execute_result"
    }
   ],
   "source": [
    "# training corpus set\n",
    "corpus = nltk.corpus.brown\n",
    "len(corpus.words())"
   ]
  },
  {
   "cell_type": "code",
   "execution_count": 35,
   "metadata": {},
   "outputs": [],
   "source": [
    "laplaceUniCharCounts = collections.defaultdict(lambda: 0)\n",
    "laplaceBiCharCounts = collections.defaultdict(lambda: 0)\n",
    "laplaceTriCharCounts = collections.defaultdict(lambda: 0)\n",
    "laplaceQuadCharCounts = collections.defaultdict(lambda: 0)\n",
    "totalUni = 0\n",
    "totalBi = 0\n",
    "totalTri = 0\n",
    "words_data = list([i.lower() for i in corpus.words()])\n",
    "filtered_words = []\n",
    "remove_items = string.punctuation + '0123456789'\n",
    "for word in words_data:\n",
    "    no_punctuation = True\n",
    "    for item in remove_items:\n",
    "        if item in word:\n",
    "            no_punctuation = False\n",
    "        if no_punctuation == False:\n",
    "            break\n",
    "    if no_punctuation:\n",
    "        filtered_words.append(word)\n",
    "words = [list(i) for i in filtered_words]\n",
    "#remove characters \n",
    "\n",
    "for word in words:\n",
    "        word.append('</w>')\n",
    "        for i in range(len(word)):\n",
    "            token1 = word[i]\n",
    "            laplaceUniCharCounts[token1] += 1\n",
    "        for i in range(len(word)-1):\n",
    "            token1 = word[i]\n",
    "            token2 = word[i + 1]\n",
    "            laplaceBiCharCounts[token1 + token2] += 1\n",
    "        for i in range(len(word)-2):\n",
    "            token1 = word[i]\n",
    "            token2 = word[i + 1]\n",
    "            token3 = word[i + 2]\n",
    "            laplaceTriCharCounts[token1 + token2 + token3] += 1\n",
    "        for i in range(len(word)-3):\n",
    "            token1 = word[i]\n",
    "            token2 = word[i + 1]\n",
    "            token3 = word[i + 2]\n",
    "            token4 = word[i + 3]\n",
    "            laplaceQuadCharCounts[token1 + token2 + token3 + token4] += 1\n",
    "\n",
    "totalUni = sum(laplaceUniCharCounts.values())\n",
    "totalBi = sum(laplaceBiCharCounts.values())\n",
    "totalTri = sum(laplaceTriCharCounts.values())\n",
    "totalQuad = sum(laplaceQuadCharCounts.values())"
   ]
  },
  {
   "cell_type": "markdown",
   "metadata": {},
   "source": [
    "# Language Model"
   ]
  },
  {
   "cell_type": "code",
   "execution_count": 36,
   "metadata": {},
   "outputs": [],
   "source": [
    "def language_model(word):\n",
    "    first_char = word[0]\n",
    "    sec_char = word[1]\n",
    "    third_char = word[2]\n",
    "    fourth_char = '</w>'\n",
    "    p1 = laplaceUniCharCounts[first_char]/totalUni\n",
    "    p2 = laplaceBiCharCounts[first_char+sec_char]/sum([value if key.startswith(first_char) else 0 for key, value in laplaceBiCharCounts.items()])\n",
    "    \n",
    "    if laplaceTriCharCounts[first_char+sec_char+third_char] != 0:\n",
    "        p3 = laplaceTriCharCounts[first_char+sec_char+third_char]/sum([value if key.startswith(first_char+sec_char) else 0 for key, value in laplaceTriCharCounts.items()])\n",
    "    else:\n",
    "        p3 = 0\n",
    "    if laplaceQuadCharCounts[first_char+sec_char+third_char+ fourth_char] != 0:\n",
    "        p4 = laplaceQuadCharCounts[first_char+sec_char+third_char+ fourth_char]/sum([value if key.startswith(first_char+sec_char+ third_char) else 0 for key, value in laplaceQuadCharCounts.items()])\n",
    "    else:\n",
    "        p4 = 0\n",
    "    return [p1, p2, p3, p4]\n",
    "\n"
   ]
  },
  {
   "cell_type": "code",
   "execution_count": 37,
   "metadata": {},
   "outputs": [
    {
     "data": {
      "text/plain": [
       "[('the', 69971),\n",
       " ('of', 36412),\n",
       " ('and', 28853),\n",
       " ('to', 26158),\n",
       " ('a', 23195),\n",
       " ('in', 21337),\n",
       " ('that', 10594),\n",
       " ('is', 10109),\n",
       " ('was', 9815),\n",
       " ('he', 9548),\n",
       " ('for', 9489),\n",
       " ('it', 8760),\n",
       " ('with', 7289),\n",
       " ('as', 7253),\n",
       " ('his', 6996),\n",
       " ('on', 6741),\n",
       " ('be', 6377),\n",
       " ('at', 5372),\n",
       " ('by', 5306),\n",
       " ('i', 5164)]"
      ]
     },
     "execution_count": 37,
     "metadata": {},
     "output_type": "execute_result"
    }
   ],
   "source": [
    "dictionary = collections.Counter(filtered_words)\n",
    "dictionary.most_common(20)"
   ]
  },
  {
   "cell_type": "code",
   "execution_count": 50,
   "metadata": {},
   "outputs": [
    {
     "data": {
      "text/plain": [
       "[0.07654280007513439,\n",
       " 0.311664926075615,\n",
       " 0.6876460379116297,\n",
       " 0.7650915050532642]"
      ]
     },
     "execution_count": 50,
     "metadata": {},
     "output_type": "execute_result"
    }
   ],
   "source": [
    "language_model('the')"
   ]
  },
  {
   "cell_type": "markdown",
   "metadata": {},
   "source": [
    "# Keras Model"
   ]
  },
  {
   "cell_type": "code",
   "execution_count": 39,
   "metadata": {},
   "outputs": [],
   "source": [
    "def keras_model(word):\n",
    "    \n",
    "    img=word[0]\n",
    "    x=np.array(img)\n",
    "    x=np.expand_dims(x,axis=0)\n",
    "\n",
    "    #keras char model prediction\n",
    "    predicted = model.predict(x)\n",
    "\n",
    "    #character number 1\n",
    "    letter = alphabet[np.argmax(predicted)] \n",
    "    \n",
    "    img= word[1]\n",
    "    x=np.array(img)\n",
    "    x=np.expand_dims(x,axis=0)\n",
    "    predicted2 = model.predict(x)\n",
    "\n",
    "    letter2 = alphabet[np.argmax(predicted2)]\n",
    "\n",
    "    img = word[2]\n",
    "    x=np.array(img)\n",
    "    x=np.expand_dims(x,axis=0)\n",
    "    predicted3 = model.predict(x)\n",
    "\n",
    "\n",
    "    letter3 = alphabet[np.argmax(predicted3)]\n",
    "    \n",
    "    return letter + letter2 + letter3\n"
   ]
  },
  {
   "cell_type": "code",
   "execution_count": 40,
   "metadata": {},
   "outputs": [
    {
     "data": {
      "text/plain": [
       "('hjp', 'hyp')"
      ]
     },
     "execution_count": 40,
     "metadata": {},
     "output_type": "execute_result"
    }
   ],
   "source": [
    "keras_model(braille_images[0]), english_words[0]"
   ]
  },
  {
   "cell_type": "markdown",
   "metadata": {},
   "source": [
    "# Keras-based Language Model"
   ]
  },
  {
   "cell_type": "code",
   "execution_count": 41,
   "metadata": {},
   "outputs": [],
   "source": [
    "def flatten(l):\n",
    "    try:\n",
    "        return flatten(l[0]) + (flatten(l[1:]) if len(l) > 1 else []) if type(l) is list else [l]\n",
    "    except IndexError:\n",
    "        return []"
   ]
  },
  {
   "cell_type": "code",
   "execution_count": 42,
   "metadata": {},
   "outputs": [],
   "source": [
    "def model_function(word, beam_size):\n",
    "    #character number 1\n",
    "    img=word[0]\n",
    "    x=image.img_to_array(img)\n",
    "    x=np.expand_dims(x,axis=0)\n",
    "\n",
    "    #keras char model prediction\n",
    "    predicted = model.predict(x)\n",
    "    probabilities = [predicted[0][i] for i in predicted.argsort()[0][-beam_size:][::-1]]\n",
    "    letters = [alphabet[i] for i in predicted.argsort()[0][-beam_size:][::-1]]\n",
    "    \n",
    "    \n",
    "    \n",
    "    # character number 2\n",
    "    img=word[1]\n",
    "    x=image.img_to_array(img)\n",
    "    x=np.expand_dims(x,axis=0)\n",
    "    predicted2 = model.predict(x)\n",
    "    probabilities2 = [predicted2[0][i] for i in predicted2.argsort()[0][-beam_size:][::-1]]\n",
    "    letters2 = [alphabet[i] for i in predicted2.argsort()[0][-beam_size:][::-1]]\n",
    "    \n",
    "    \n",
    "    # character number 3\n",
    "    img=word[2]\n",
    "    x=image.img_to_array(img)\n",
    "    x=np.expand_dims(x,axis=0)\n",
    "    predicted3 = model.predict(x)\n",
    "    probabilities3 = [predicted3[0][i] for i in predicted3.argsort()[0][-beam_size:][::-1]]\n",
    "    letters3 = [alphabet[i] for i in predicted3.argsort()[0][-beam_size:][::-1]]\n",
    "    \n",
    "    \n",
    "    # all combos of 3 letters\n",
    "    combos = [[[char+char2+char3+'</w>' for char in letters] for char2 in letters2] for char3 in letters3]\n",
    "    combos = flatten(combos)\n",
    "    keras_probabilities = []\n",
    "    for comb in combos:\n",
    "        first_char_prob = probabilities[letters.index(comb[0])]\n",
    "        sec_char_prob = probabilities2[letters2.index(comb[1])]\n",
    "        third_char_prob = probabilities3[letters3.index(comb[2])]\n",
    "        keras_probabilities.append([first_char_prob, sec_char_prob, third_char_prob, 1])\n",
    "    lm_probabilities = [language_model(i) for i in combos]\n",
    "    \n",
    "    # multiplation of all combos\n",
    "    joint_mult = []\n",
    "    for index in range(len(lm_probabilities)):\n",
    "        one = lm_probabilities[index][0] * keras_probabilities[index][0]\n",
    "        two = lm_probabilities[index][1] * keras_probabilities[index][1]\n",
    "        three = lm_probabilities[index][2]* keras_probabilities[index][2]\n",
    "        fourth = lm_probabilities[index][3]* keras_probabilities[index][3]\n",
    "        joint_mult.append(one * two * three * fourth)\n",
    "    return combos[joint_mult.index(max(joint_mult))][:3]\n",
    "                \n",
    "    "
   ]
  },
  {
   "cell_type": "markdown",
   "metadata": {},
   "source": [
    "# Results"
   ]
  },
  {
   "cell_type": "code",
   "execution_count": 53,
   "metadata": {},
   "outputs": [
    {
     "name": "stdout",
     "output_type": "stream",
     "text": [
      "Predicted ['dit', 'via', 'pon', 'pip', 'his', 'pip', 'apa', 'ped', 'xas', 'sex']\n",
      "Actual ['dit', 'via', 'led', 'fip', 'nub', 'pop', 'ara', 'ped', 'mas', 'sex']\n"
     ]
    }
   ],
   "source": [
    "# small sample of test set to make sure we are on the right track\n",
    "random_indices = np.random.choice(range(0, len(braille_images)), size = 10)\n",
    "sample_actual = [english_words[i] for i in random_indices]\n",
    "sample = [braille_images[i] for i in random_indices]\n",
    "sample_output = [model_function(word, 5) for word in sample]\n",
    "print('Predicted', sample_output)\n",
    "print('Actual',sample_actual)"
   ]
  },
  {
   "cell_type": "code",
   "execution_count": 43,
   "metadata": {},
   "outputs": [],
   "source": [
    "# final output on test set with keras based language model\n",
    "output = [model_function(word, 5) for word in braille_images]"
   ]
  },
  {
   "cell_type": "code",
   "execution_count": 44,
   "metadata": {},
   "outputs": [
    {
     "data": {
      "text/plain": [
       "0.17092034029389017"
      ]
     },
     "execution_count": 44,
     "metadata": {},
     "output_type": "execute_result"
    }
   ],
   "source": [
    "#test accuracy\n",
    "accuracy = sum([output[i] == english_words[i] for i in range(len(english_words))])/len(english_words)\n",
    "indexes = [i for i in range(len(english_words)) if output[i] == english_words[i] ]\n",
    "correct = [output[i] for i in indexes]\n",
    "accuracy"
   ]
  },
  {
   "cell_type": "code",
   "execution_count": 45,
   "metadata": {},
   "outputs": [],
   "source": [
    "#final output on test set with keras model\n",
    "keras_output = [keras_model(word) for word in braille_images]"
   ]
  },
  {
   "cell_type": "code",
   "execution_count": 46,
   "metadata": {},
   "outputs": [
    {
     "data": {
      "text/plain": [
       "0.06651198762567673"
      ]
     },
     "execution_count": 46,
     "metadata": {},
     "output_type": "execute_result"
    }
   ],
   "source": [
    "accuracy_k = sum([keras_output[i] == english_words[i] for i in range(len(english_words))])/len(english_words)\n",
    "indexes_k = [i for i in range(len(english_words)) if keras_output[i] == english_words[i]]\n",
    "correct_k = [keras_output[i] for i in indexes_k]\n",
    "accuracy_k"
   ]
  },
  {
   "cell_type": "code",
   "execution_count": 54,
   "metadata": {},
   "outputs": [
    {
     "data": {
      "text/plain": [
       "0.10440835266821344"
      ]
     },
     "execution_count": 54,
     "metadata": {},
     "output_type": "execute_result"
    }
   ],
   "source": [
    "# increase in accuracy \n",
    "accuracy - accuracy_k"
   ]
  },
  {
   "cell_type": "code",
   "execution_count": 61,
   "metadata": {},
   "outputs": [],
   "source": [
    "model_right_keras_wrong = [i for i in indexes if i not in indexes_k]"
   ]
  },
  {
   "cell_type": "code",
   "execution_count": 62,
   "metadata": {},
   "outputs": [
    {
     "data": {
      "text/plain": [
       "'til'"
      ]
     },
     "execution_count": 62,
     "metadata": {},
     "output_type": "execute_result"
    }
   ],
   "source": [
    "english_words[8]"
   ]
  },
  {
   "cell_type": "code",
   "execution_count": 64,
   "metadata": {},
   "outputs": [
    {
     "data": {
      "text/plain": [
       "'jil'"
      ]
     },
     "execution_count": 64,
     "metadata": {},
     "output_type": "execute_result"
    }
   ],
   "source": [
    "keras_model(braille_images[8])"
   ]
  },
  {
   "cell_type": "code",
   "execution_count": 66,
   "metadata": {},
   "outputs": [
    {
     "data": {
      "text/plain": [
       "'til'"
      ]
     },
     "execution_count": 66,
     "metadata": {},
     "output_type": "execute_result"
    }
   ],
   "source": [
    "model_function(braille_images[8],5)"
   ]
  },
  {
   "cell_type": "markdown",
   "metadata": {},
   "source": [
    "# Resources\n",
    "https://www.brailletranslator.org/\n",
    "\n",
    "https://www.kaggle.com/shanks0465/braille-character-dataset"
   ]
  }
 ],
 "metadata": {
  "kernelspec": {
   "display_name": "Python 3",
   "language": "python",
   "name": "python3"
  },
  "language_info": {
   "codemirror_mode": {
    "name": "ipython",
    "version": 3
   },
   "file_extension": ".py",
   "mimetype": "text/x-python",
   "name": "python",
   "nbconvert_exporter": "python",
   "pygments_lexer": "ipython3",
   "version": "3.7.4"
  }
 },
 "nbformat": 4,
 "nbformat_minor": 4
}
